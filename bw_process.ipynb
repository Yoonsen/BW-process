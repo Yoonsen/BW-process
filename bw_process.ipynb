{
 "cells": [
  {
   "cell_type": "code",
   "execution_count": 9,
   "id": "71559b38-c784-407f-bfcb-b8640da22713",
   "metadata": {},
   "outputs": [],
   "source": [
    "import rawpy\n",
    "import numpy as np\n",
    "from PIL import Image, ImageEnhance, ImageOps\n",
    "\n",
    "def convert_to_bw_negative(image_path, output_path):\n",
    "    # Load RAW image\n",
    "    raw = rawpy.imread(image_path)\n",
    "    rgb_image = raw.postprocess()\n",
    "\n",
    "    # Convert to grayscale\n",
    "    gray_image = np.mean(rgb_image, axis=2).astype(np.uint8)\n",
    "\n",
    "    # Invert the grayscale image to get positive\n",
    "    positive_image = 255 - gray_image\n",
    "\n",
    "    # Optionally enhance contrast\n",
    "    pil_image = Image.fromarray(positive_image)\n",
    "    pil_image = ImageOps.autocontrast(pil_image)  # Auto contrast adjustment\n",
    "\n",
    "    # Mirror the image\n",
    "    pil_image = ImageOps.mirror(pil_image)\n",
    "\n",
    "    # Save the converted image\n",
    "    pil_image.save(output_path)"
   ]
  },
  {
   "cell_type": "code",
   "execution_count": 10,
   "id": "f520180c-df64-4741-aa67-44ab23dbec80",
   "metadata": {},
   "outputs": [],
   "source": [
    "import os"
   ]
  },
  {
   "cell_type": "code",
   "execution_count": 11,
   "id": "749fc0d1-43bb-4155-a8d2-1279ba622769",
   "metadata": {},
   "outputs": [],
   "source": [
    "files = next(os.walk('images'))"
   ]
  },
  {
   "cell_type": "code",
   "execution_count": 12,
   "id": "aea019e6-3f83-4a90-b6da-3e91a06f5241",
   "metadata": {},
   "outputs": [
    {
     "data": {
      "text/plain": [
       "('images',\n",
       " ['.ipynb_checkpoints'],\n",
       " ['P8130023.ORF',\n",
       "  'P8130023.JPG',\n",
       "  'P8130022.ORF',\n",
       "  'P8130022.JPG',\n",
       "  'P8130021.ORF',\n",
       "  'P8130021.JPG',\n",
       "  'P8130020.ORF',\n",
       "  'P8130020.JPG',\n",
       "  'P8130019.ORF',\n",
       "  'P8130019.JPG',\n",
       "  'P8130018.ORF',\n",
       "  'P8130018.JPG'])"
      ]
     },
     "execution_count": 12,
     "metadata": {},
     "output_type": "execute_result"
    }
   ],
   "source": [
    "files"
   ]
  },
  {
   "cell_type": "code",
   "execution_count": 13,
   "id": "935bf55b-f327-489d-a158-8a46189eabe8",
   "metadata": {},
   "outputs": [],
   "source": [
    "# Example usage\n",
    "for f in files[2]:\n",
    "    (name, ext) = f.split('.')\n",
    "    if ext == \"ORF\":\n",
    "        convert_to_bw_negative(os.path.join('images', f), os.path.join('positives', f\"{name}.jpg\"))"
   ]
  },
  {
   "cell_type": "code",
   "execution_count": null,
   "id": "67674cf7-c949-4ab5-ba13-79638e6d087b",
   "metadata": {},
   "outputs": [],
   "source": []
  }
 ],
 "metadata": {
  "kernelspec": {
   "display_name": "Python 3 (ipykernel)",
   "language": "python",
   "name": "python3"
  },
  "language_info": {
   "codemirror_mode": {
    "name": "ipython",
    "version": 3
   },
   "file_extension": ".py",
   "mimetype": "text/x-python",
   "name": "python",
   "nbconvert_exporter": "python",
   "pygments_lexer": "ipython3",
   "version": "3.12.4"
  }
 },
 "nbformat": 4,
 "nbformat_minor": 5
}
